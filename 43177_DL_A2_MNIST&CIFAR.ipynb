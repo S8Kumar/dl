{
  "cells": [
    {
      "cell_type": "markdown",
      "metadata": {
        "id": "lpzvNXaIb6MN"
      },
      "source": [
        "# **43177 STUTI KUMAR**"
      ]
    },
    {
      "cell_type": "markdown",
      "metadata": {
        "id": "qOCGaGOzNY-X"
      },
      "source": [
        "# **A2 - Feed Forward Neural Network**"
      ]
    },
    {
      "cell_type": "code",
      "execution_count": null,
      "metadata": {
        "id": "bCGmI_GtJ50T"
      },
      "outputs": [],
      "source": [
        "from sklearn.preprocessing import LabelBinarizer\n",
        "from sklearn.metrics import classification_report\n",
        "\n",
        "from tensorflow.keras.models import Sequential\n",
        "from tensorflow.keras.layers import Dense\n",
        "from tensorflow.keras.optimizers import SGD\n",
        "from tensorflow.keras import backend as K\n",
        "\n",
        "import matplotlib.pyplot as plt\n",
        "import numpy as np"
      ]
    },
    {
      "cell_type": "markdown",
      "metadata": {
        "id": "3P594bUvKJaK"
      },
      "source": [
        "## **MNIST**"
      ]
    },
    {
      "cell_type": "code",
      "execution_count": null,
      "metadata": {
        "colab": {
          "base_uri": "https://localhost:8080/"
        },
        "id": "qJmD5ffrKHnD",
        "outputId": "f8e0d7c6-6b97-4b6d-9db3-a8c9ac70a3f0"
      },
      "outputs": [
        {
          "name": "stdout",
          "output_type": "stream",
          "text": [
            "Downloading data from https://storage.googleapis.com/tensorflow/tf-keras-datasets/mnist.npz\n",
            "11490434/11490434 [==============================] - 0s 0us/step\n"
          ]
        }
      ],
      "source": [
        "from tensorflow.keras.datasets import mnist\n",
        "((X_train, Y_train), (X_test, Y_test)) = mnist.load_data()"
      ]
    },
    {
      "cell_type": "code",
      "execution_count": null,
      "metadata": {
        "id": "i68r9ODwKUEC"
      },
      "outputs": [],
      "source": [
        "#Flatten\n",
        "X_train = X_train.reshape((X_train.shape[0], 28 * 28 * 1))\n",
        "X_test = X_test.reshape((X_test.shape[0], 28 * 28 * 1))"
      ]
    },
    {
      "cell_type": "code",
      "execution_count": null,
      "metadata": {
        "id": "GxC48FG6K7l0"
      },
      "outputs": [],
      "source": [
        "#Normalize data\n",
        "X_train = X_train.astype(\"float32\") / 255.0\n",
        "X_test = X_test.astype(\"float32\") / 255.0"
      ]
    },
    {
      "cell_type": "code",
      "execution_count": null,
      "metadata": {
        "id": "cwfYM4JrLHt0"
      },
      "outputs": [],
      "source": [
        "#Label encoding\n",
        "lb = LabelBinarizer()\n",
        "Y_train = lb.fit_transform(Y_train)\n",
        "Y_test = lb.transform(Y_test)"
      ]
    },
    {
      "cell_type": "code",
      "execution_count": null,
      "metadata": {
        "id": "ka--A-IVLQ97"
      },
      "outputs": [],
      "source": [
        "#build sequential model\n",
        "model = Sequential()\n",
        "model.add(Dense(128, input_shape=(784,), activation=\"sigmoid\"))\n",
        "model.add(Dense(64, activation=\"sigmoid\"))\n",
        "model.add(Dense(10, activation=\"softmax\"))"
      ]
    },
    {
      "cell_type": "code",
      "execution_count": null,
      "metadata": {
        "colab": {
          "base_uri": "https://localhost:8080/"
        },
        "id": "xr96gmPSLZIx",
        "outputId": "e455171e-d649-4185-dd0e-4170c054438a"
      },
      "outputs": [
        {
          "name": "stdout",
          "output_type": "stream",
          "text": [
            "Epoch 1/10\n",
            "469/469 [==============================] - 3s 6ms/step - loss: 0.9942 - accuracy: 0.7789 - val_loss: 0.9284 - val_accuracy: 0.7949\n",
            "Epoch 2/10\n",
            "469/469 [==============================] - 3s 5ms/step - loss: 0.9021 - accuracy: 0.7926 - val_loss: 0.8456 - val_accuracy: 0.8063\n",
            "Epoch 3/10\n",
            "469/469 [==============================] - 3s 5ms/step - loss: 0.8285 - accuracy: 0.8041 - val_loss: 0.7798 - val_accuracy: 0.8154\n",
            "Epoch 4/10\n",
            "469/469 [==============================] - 2s 5ms/step - loss: 0.7693 - accuracy: 0.8120 - val_loss: 0.7261 - val_accuracy: 0.8269\n",
            "Epoch 5/10\n",
            "469/469 [==============================] - 2s 5ms/step - loss: 0.7211 - accuracy: 0.8202 - val_loss: 0.6820 - val_accuracy: 0.8327\n",
            "Epoch 6/10\n",
            "469/469 [==============================] - 2s 5ms/step - loss: 0.6811 - accuracy: 0.8267 - val_loss: 0.6453 - val_accuracy: 0.8376\n",
            "Epoch 7/10\n",
            "469/469 [==============================] - 3s 5ms/step - loss: 0.6475 - accuracy: 0.8326 - val_loss: 0.6144 - val_accuracy: 0.8425\n",
            "Epoch 8/10\n",
            "469/469 [==============================] - 3s 5ms/step - loss: 0.6187 - accuracy: 0.8384 - val_loss: 0.5877 - val_accuracy: 0.8469\n",
            "Epoch 9/10\n",
            "469/469 [==============================] - 2s 5ms/step - loss: 0.5938 - accuracy: 0.8429 - val_loss: 0.5645 - val_accuracy: 0.8545\n",
            "Epoch 10/10\n",
            "469/469 [==============================] - 2s 5ms/step - loss: 0.5719 - accuracy: 0.8480 - val_loss: 0.5439 - val_accuracy: 0.8580\n"
          ]
        }
      ],
      "source": [
        "#train the model\n",
        "sgd = SGD(0.01)\n",
        "epochs =10\n",
        "model.compile(\n",
        "    loss=\"categorical_crossentropy\", \n",
        "    optimizer=sgd, \n",
        "    metrics=[\"accuracy\"])\n",
        "H = model.fit(X_train, Y_train, \n",
        "              validation_data=(X_test, Y_test),\n",
        "              epochs=epochs, \n",
        "              batch_size=128)"
      ]
    },
    {
      "cell_type": "code",
      "execution_count": null,
      "metadata": {
        "colab": {
          "base_uri": "https://localhost:8080/"
        },
        "id": "NpcNZfhGMQAh",
        "outputId": "6127bc24-cc30-4644-e164-e9cf6dd44b18"
      },
      "outputs": [
        {
          "name": "stdout",
          "output_type": "stream",
          "text": [
            "79/79 [==============================] - 0s 2ms/step\n",
            "              precision    recall  f1-score   support\n",
            "\n",
            "           0       0.82      0.97      0.89       980\n",
            "           1       0.78      0.99      0.87      1135\n",
            "           2       0.85      0.76      0.80      1032\n",
            "           3       0.75      0.85      0.80      1010\n",
            "           4       0.70      0.75      0.73       982\n",
            "           5       0.86      0.43      0.58       892\n",
            "           6       0.83      0.91      0.86       958\n",
            "           7       0.80      0.88      0.84      1028\n",
            "           8       0.83      0.68      0.75       974\n",
            "           9       0.67      0.56      0.61      1009\n",
            "\n",
            "    accuracy                           0.78     10000\n",
            "   macro avg       0.79      0.78      0.77     10000\n",
            "weighted avg       0.79      0.78      0.77     10000\n",
            "\n"
          ]
        }
      ],
      "source": [
        "#make predictions\n",
        "predictions = model.predict(X_test, batch_size=128)\n",
        "print(classification_report(Y_test.argmax(axis=1),\n",
        "                            predictions.argmax(axis=1),target_names=[str(x) for x in lb.classes_]))"
      ]
    },
    {
      "cell_type": "code",
      "execution_count": null,
      "metadata": {
        "colab": {
          "base_uri": "https://localhost:8080/",
          "height": 316
        },
        "id": "xnp3cBxuMjXQ",
        "outputId": "77077686-f60c-4914-e04b-fa9ea10faaa7"
      },
      "outputs": [
        {
          "data": {
            "text/plain": [
              "<matplotlib.legend.Legend at 0x7f5eb515edd0>"
            ]
          },
          "execution_count": 16,
          "metadata": {},
          "output_type": "execute_result"
        },
        {
          "data": {
            "image/png": "[encoded data removed]",
            "text/plain": [
              "<Figure size 432x288 with 1 Axes>"
            ]
          },
          "metadata": {},
          "output_type": "display_data"
        }
      ],
      "source": [
        "#plotting the training loss and accuracy\n",
        "plt.style.use(\"ggplot\")\n",
        "plt.figure()\n",
        "plt.plot(np.arange(0, epochs), H.history[\"loss\"], label=\"train_loss\")\n",
        "plt.plot(np.arange(0, epochs), H.history[\"val_loss\"], label=\"val_loss\")\n",
        "plt.plot(np.arange(0, epochs), H.history[\"accuracy\"], label=\"train_acc\")\n",
        "plt.plot(np.arange(0, epochs), H.history[\"val_accuracy\"], label=\"val_acc\")\n",
        "plt.title(\"Training Loss and Accuracy\")\n",
        "plt.xlabel(\"Epoch #\")\n",
        "plt.ylabel(\"Loss/Accuracy\")\n",
        "plt.legend()"
      ]
    },
    {
      "cell_type": "markdown",
      "metadata": {
        "id": "6_VOSPs0OLPB"
      },
      "source": [
        "## **CIFAR 10**"
      ]
    },
    {
      "cell_type": "code",
      "execution_count": null,
      "metadata": {
        "id": "gR3ucxZvOTZ2"
      },
      "outputs": [],
      "source": [
        "from tensorflow.keras.datasets import cifar10"
      ]
    },
    {
      "cell_type": "code",
      "execution_count": null,
      "metadata": {
        "colab": {
          "base_uri": "https://localhost:8080/"
        },
        "id": "UvKMrRhxOdya",
        "outputId": "65638976-d830-4d95-e988-ca419d79b7db"
      },
      "outputs": [
        {
          "name": "stdout",
          "output_type": "stream",
          "text": [
            "Downloading data from https://www.cs.toronto.edu/~kriz/cifar-10-python.tar.gz\n",
            "170498071/170498071 [==============================] - 4s 0us/step\n"
          ]
        }
      ],
      "source": [
        "# load the training and testing data, scale it into the range [0, 1],\n",
        "# then reshape the design matrix\n",
        "((trainX, trainY), (testX, testY)) = cifar10.load_data()\n",
        "trainX = trainX.astype(\"float\") / 255.0\n",
        "testX = testX.astype(\"float\") / 255.0\n",
        "trainX = trainX.reshape((trainX.shape[0], 3072))\n",
        "testX = testX.reshape((testX.shape[0], 3072))"
      ]
    },
    {
      "cell_type": "code",
      "execution_count": null,
      "metadata": {
        "id": "kNutv87pO_iE"
      },
      "outputs": [],
      "source": [
        "# convert the labels from integers to vectors\n",
        "lb = LabelBinarizer()\n",
        "trainY = lb.fit_transform(trainY)\n",
        "testY = lb.transform(testY)"
      ]
    },
    {
      "cell_type": "code",
      "execution_count": null,
      "metadata": {
        "id": "4DvT9H0DPITq"
      },
      "outputs": [],
      "source": [
        "\n",
        "# initialize the label names for the CIFAR-10 dataset\n",
        "labelNames = [\"airplane\", \"automobile\", \"bird\", \"cat\", \"deer\",\n",
        "\t\"dog\", \"frog\", \"horse\", \"ship\", \"truck\"]"
      ]
    },
    {
      "cell_type": "code",
      "execution_count": null,
      "metadata": {
        "id": "nNTbqAFhPMp1"
      },
      "outputs": [],
      "source": [
        "# define the architecture using Keras\n",
        "model = Sequential()\n",
        "model.add(Dense(1024, input_shape=(3072,), activation=\"sigmoid\"))\n",
        "model.add(Dense(512, activation=\"sigmoid\"))\n",
        "model.add(Dense(10, activation=\"softmax\"))"
      ]
    },
    {
      "cell_type": "code",
      "execution_count": null,
      "metadata": {
        "colab": {
          "base_uri": "https://localhost:8080/"
        },
        "id": "5sOGeuSOPiZK",
        "outputId": "e9915cf3-6cbb-4176-c0e2-704dad3e0eb6"
      },
      "outputs": [
        {
          "name": "stdout",
          "output_type": "stream",
          "text": [
            "Epoch 1/20\n",
            "1563/1563 [==============================] - 37s 24ms/step - loss: 2.2150 - accuracy: 0.1820 - val_loss: 2.1135 - val_accuracy: 0.2502\n",
            "Epoch 2/20\n",
            "1563/1563 [==============================] - 37s 24ms/step - loss: 2.0464 - accuracy: 0.2647 - val_loss: 1.9856 - val_accuracy: 0.2938\n",
            "Epoch 3/20\n",
            "1563/1563 [==============================] - 36s 23ms/step - loss: 1.9592 - accuracy: 0.3005 - val_loss: 1.9402 - val_accuracy: 0.2910\n",
            "Epoch 4/20\n",
            "1563/1563 [==============================] - 37s 23ms/step - loss: 1.9135 - accuracy: 0.3171 - val_loss: 1.8904 - val_accuracy: 0.3287\n",
            "Epoch 5/20\n",
            "1563/1563 [==============================] - 38s 24ms/step - loss: 1.8824 - accuracy: 0.3330 - val_loss: 1.8699 - val_accuracy: 0.3475\n",
            "Epoch 6/20\n",
            "1563/1563 [==============================] - 37s 24ms/step - loss: 1.8588 - accuracy: 0.3437 - val_loss: 1.8392 - val_accuracy: 0.3526\n",
            "Epoch 7/20\n",
            "1563/1563 [==============================] - 36s 23ms/step - loss: 1.8392 - accuracy: 0.3504 - val_loss: 1.8309 - val_accuracy: 0.3594\n",
            "Epoch 8/20\n",
            "1563/1563 [==============================] - 36s 23ms/step - loss: 1.8220 - accuracy: 0.3573 - val_loss: 1.8128 - val_accuracy: 0.3596\n",
            "Epoch 9/20\n",
            "1563/1563 [==============================] - 36s 23ms/step - loss: 1.8072 - accuracy: 0.3640 - val_loss: 1.7978 - val_accuracy: 0.3712\n",
            "Epoch 10/20\n",
            "1563/1563 [==============================] - 36s 23ms/step - loss: 1.7947 - accuracy: 0.3694 - val_loss: 1.7892 - val_accuracy: 0.3678\n",
            "Epoch 11/20\n",
            "1563/1563 [==============================] - 36s 23ms/step - loss: 1.7834 - accuracy: 0.3736 - val_loss: 1.8029 - val_accuracy: 0.3706\n",
            "Epoch 12/20\n",
            "1563/1563 [==============================] - 36s 23ms/step - loss: 1.7738 - accuracy: 0.3769 - val_loss: 1.7951 - val_accuracy: 0.3717\n",
            "Epoch 13/20\n",
            "1563/1563 [==============================] - 37s 23ms/step - loss: 1.7643 - accuracy: 0.3825 - val_loss: 1.7654 - val_accuracy: 0.3797\n",
            "Epoch 14/20\n",
            "1563/1563 [==============================] - 35s 23ms/step - loss: 1.7561 - accuracy: 0.3851 - val_loss: 1.7517 - val_accuracy: 0.3832\n",
            "Epoch 15/20\n",
            "1563/1563 [==============================] - 37s 24ms/step - loss: 1.7477 - accuracy: 0.3850 - val_loss: 1.7393 - val_accuracy: 0.3922\n",
            "Epoch 16/20\n",
            "1563/1563 [==============================] - 36s 23ms/step - loss: 1.7397 - accuracy: 0.3907 - val_loss: 1.7421 - val_accuracy: 0.3840\n",
            "Epoch 17/20\n",
            "1563/1563 [==============================] - 36s 23ms/step - loss: 1.7316 - accuracy: 0.3948 - val_loss: 1.7290 - val_accuracy: 0.3969\n",
            "Epoch 18/20\n",
            "1563/1563 [==============================] - 37s 24ms/step - loss: 1.7240 - accuracy: 0.3968 - val_loss: 1.7657 - val_accuracy: 0.3637\n",
            "Epoch 19/20\n",
            "1563/1563 [==============================] - 37s 23ms/step - loss: 1.7157 - accuracy: 0.3987 - val_loss: 1.7134 - val_accuracy: 0.3992\n",
            "Epoch 20/20\n",
            "1563/1563 [==============================] - 45s 29ms/step - loss: 1.7079 - accuracy: 0.4029 - val_loss: 1.7210 - val_accuracy: 0.3887\n"
          ]
        }
      ],
      "source": [
        "# train the model using SGD\n",
        "sgd = SGD(0.01)\n",
        "model.compile(loss=\"categorical_crossentropy\", optimizer=sgd,\n",
        "\t            metrics=[\"accuracy\"])\n",
        "H = model.fit(trainX, trainY, validation_data=(testX, testY),\n",
        "\tepochs=20, batch_size=32)"
      ]
    },
    {
      "cell_type": "code",
      "execution_count": null,
      "metadata": {
        "colab": {
          "base_uri": "https://localhost:8080/"
        },
        "id": "_Nxj8k3CPvSc",
        "outputId": "2b1409d4-c7d1-4344-918f-6e966d40b1bc"
      },
      "outputs": [
        {
          "name": "stdout",
          "output_type": "stream",
          "text": [
            "313/313 [==============================] - 3s 9ms/step\n",
            "              precision    recall  f1-score   support\n",
            "\n",
            "    airplane       0.33      0.68      0.44      1000\n",
            "  automobile       0.50      0.47      0.49      1000\n",
            "        bird       0.27      0.32      0.29      1000\n",
            "         cat       0.27      0.35      0.31      1000\n",
            "        deer       0.37      0.28      0.32      1000\n",
            "         dog       0.55      0.20      0.29      1000\n",
            "        frog       0.38      0.54      0.45      1000\n",
            "       horse       0.58      0.29      0.38      1000\n",
            "        ship       0.53      0.33      0.41      1000\n",
            "       truck       0.48      0.43      0.45      1000\n",
            "\n",
            "    accuracy                           0.39     10000\n",
            "   macro avg       0.43      0.39      0.38     10000\n",
            "weighted avg       0.43      0.39      0.38     10000\n",
            "\n"
          ]
        }
      ],
      "source": [
        "# evaluate the network\n",
        "predictions = model.predict(testX, batch_size=32)\n",
        "print(classification_report(testY.argmax(axis=1),\n",
        "\tpredictions.argmax(axis=1), target_names=labelNames))"
      ]
    },
    {
      "cell_type": "code",
      "execution_count": null,
      "metadata": {
        "colab": {
          "base_uri": "https://localhost:8080/",
          "height": 316
        },
        "id": "c8Dv-Tf0P5PA",
        "outputId": "9fcaf642-9d62-4b8d-eb95-080caa3f19b6"
      },
      "outputs": [
        {
          "data": {
            "text/plain": [
              "<matplotlib.legend.Legend at 0x7f356a5b3e50>"
            ]
          },
          "execution_count": 9,
          "metadata": {},
          "output_type": "execute_result"
        },
        {
          "data": {
            "image/png": "[encoded data removed]",
            "text/plain": [
              "<Figure size 432x288 with 1 Axes>"
            ]
          },
          "metadata": {},
          "output_type": "display_data"
        }
      ],
      "source": [
        "# plot the training loss and accuracy\n",
        "plt.style.use(\"ggplot\")\n",
        "plt.figure()\n",
        "plt.plot(np.arange(0, 20), H.history[\"loss\"], label=\"train_loss\")\n",
        "plt.plot(np.arange(0, 20), H.history[\"val_loss\"], label=\"val_loss\")\n",
        "plt.plot(np.arange(0, 20), H.history[\"accuracy\"], label=\"train_acc\")\n",
        "plt.plot(np.arange(0, 20), H.history[\"val_accuracy\"], label=\"val_acc\")\n",
        "plt.title(\"Training Loss and Accuracy\")\n",
        "plt.xlabel(\"Epoch #\")\n",
        "plt.ylabel(\"Loss/Accuracy\")\n",
        "plt.legend()"
      ]
    }
  ],
  "metadata": {
    "colab": {
      "provenance": [],
      "toc_visible": true
    },
    "kernelspec": {
      "display_name": "Python 3.9.6 64-bit",
      "language": "python",
      "name": "python3"
    },
    "language_info": {
      "name": "python",
      "version": "3.9.6"
    },
    "vscode": {
      "interpreter": {
        "hash": "4cb152312354fdf8e65d4c58beb131d8b6cf53bf6c2300780a8c702780ef5ae4"
      }
    }
  },
  "nbformat": 4,
  "nbformat_minor": 0
}
