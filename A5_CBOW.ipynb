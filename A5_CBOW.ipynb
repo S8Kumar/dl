{
  "cells": [
    {
      "cell_type": "markdown",
      "metadata": {
        "id": "HuZwgA0eyaA0"
      },
      "source": [
        "# **43177 STUTI KUMAR**"
      ]
    },
    {
      "cell_type": "markdown",
      "metadata": {
        "id": "DfQV-5BNybkz"
      },
      "source": [
        "# **A5 - CBOW**"
      ]
    },
    {
      "cell_type": "code",
      "execution_count": null,
      "metadata": {
        "id": "oIAaFMXQ0pYW"
      },
      "outputs": [],
      "source": [
        "#import libraries\n",
        "import numpy as np\n",
        "import keras.backend as K\n",
        "from keras.models import Sequential\n",
        "from keras.layers import Dense, Embedding, Lambda\n",
        "from keras.utils import np_utils\n",
        "from keras.preprocessing import sequence\n",
        "from keras.preprocessing.text import Tokenizer\n",
        "import gensim"
      ]
    },
    {
      "cell_type": "code",
      "execution_count": null,
      "metadata": {
        "id": "8gRgO6-H0q80"
      },
      "outputs": [],
      "source": [
        "#read data\n",
        "data=open('coronaData.txt','r')\n",
        "corona_data = [text for text in data if text.count(' ') >= 2]\n",
        "\n",
        "#tokenize every word in the dataset and fit data to the tokenizer\n",
        "vectorize = Tokenizer()\n",
        "vectorize.fit_on_texts(corona_data)\n",
        "corona_data = vectorize.texts_to_sequences(corona_data)\n",
        "\n",
        "#calculate the total number of words and the total number of sentences\n",
        "total_vocab = sum(len(s) for s in corona_data)\n",
        "word_count = len(vectorize.word_index) + 1\n",
        "window_size = 2"
      ]
    },
    {
      "cell_type": "code",
      "execution_count": null,
      "metadata": {
        "id": "_EJ0rYIG02Kk"
      },
      "outputs": [],
      "source": [
        "# function that takes in window sizes separately for target and the context \n",
        "# and creates the pairs of contextual words and target words\n",
        "def cbow_model(data, window_size, total_vocab):\n",
        "    total_length = window_size*2\n",
        "    for text in data:\n",
        "        text_len = len(text)\n",
        "        for idx, word in enumerate(text):\n",
        "            context_word = []\n",
        "            target   = []            \n",
        "            begin = idx - window_size\n",
        "            end = idx + window_size + 1\n",
        "            context_word.append([text[i] for i in range(begin, end) if 0 <= i < text_len and i != idx])\n",
        "            target.append(word)\n",
        "            contextual = sequence.pad_sequences(context_word, total_length=total_length)\n",
        "            final_target = np_utils.to_categorical(target, total_vocab)\n",
        "            yield(contextual, final_target) "
      ]
    },
    {
      "cell_type": "code",
      "execution_count": null,
      "metadata": {
        "colab": {
          "base_uri": "https://localhost:8080/"
        },
        "id": "hfeBtVaP07iY",
        "outputId": "0b2a4e5b-8a8d-4d63-ecf7-c6b61f5d916c"
      },
      "outputs": [
        {
          "name": "stdout",
          "output_type": "stream",
          "text": [
            "0 0\n",
            "1 0\n",
            "2 0\n",
            "3 0\n",
            "4 0\n",
            "5 0\n",
            "6 0\n",
            "7 0\n",
            "8 0\n",
            "9 0\n"
          ]
        }
      ],
      "source": [
        "#build the neural network model\n",
        "model = Sequential()\n",
        "model.add(Embedding(input_dim=total_vocab, output_dim=100, input_length=window_size*2))\n",
        "model.add(Lambda(lambda x: K.mean(x, axis=1), output_shape=(100,)))\n",
        "model.add(Dense(total_vocab, activation='softmax'))\n",
        "model.compile(loss='categorical_crossentropy', optimizer='adam')\n",
        "for i in range(10):\n",
        "    cost = 0\n",
        "    for x, y in cbow_model(data, window_size, total_vocab):\n",
        "        cost += model.train_on_batch(contextual, final_target)\n",
        "    print(i, cost)"
      ]
    },
    {
      "cell_type": "code",
      "execution_count": null,
      "metadata": {
        "colab": {
          "base_uri": "https://localhost:8080/"
        },
        "id": "hnNAfM-11AyY",
        "outputId": "e7c9b485-0b34-4bed-875b-a666b0d5b19e"
      },
      "outputs": [
        {
          "data": {
            "text/plain": [
              "8"
            ]
          },
          "execution_count": 5,
          "metadata": {},
          "output_type": "execute_result"
        }
      ],
      "source": [
        "#create a file that contains all the vectors\n",
        "dimensions=100\n",
        "vect_file = open('vectors.txt' ,'w')\n",
        "vect_file.write('{} {}\\n'.format(total_vocab,dimensions))"
      ]
    },
    {
      "cell_type": "code",
      "execution_count": null,
      "metadata": {
        "id": "ZNf4dhL11Run"
      },
      "outputs": [],
      "source": [
        "#access the weights of the trained model and write it to created file\n",
        "weights = model.get_weights()[0]\n",
        "for text, i in vectorize.word_index.items():\n",
        "    final_vec = ' '.join(map(str, list(weights[i, :])))\n",
        "    vect_file.write('{} {}\\n'.format(text, final_vec))\n",
        "vect_file.close()"
      ]
    },
    {
      "cell_type": "code",
      "execution_count": null,
      "metadata": {
        "colab": {
          "base_uri": "https://localhost:8080/"
        },
        "id": "G_17WiOC1MNT",
        "outputId": "14c03adc-317b-4593-f4a9-ea0af19fd969"
      },
      "outputs": [
        {
          "data": {
            "text/plain": [
              "[('further', 0.22572550177574158),\n",
              " ('specific', 0.19405266642570496),\n",
              " ('is', 0.18120348453521729),\n",
              " ('shed', 0.17946389317512512),\n",
              " ('illness', 0.16364046931266785),\n",
              " ('successive', 0.15235838294029236),\n",
              " ('does', 0.144303098320961),\n",
              " ('symptomatic', 0.14363688230514526),\n",
              " ('symptoms', 0.1398129016160965),\n",
              " ('difficult', 0.134918212890625)]"
            ]
          },
          "execution_count": 8,
          "metadata": {},
          "output_type": "execute_result"
        }
      ],
      "source": [
        "#use the vectors that were created in the gensim model\n",
        "cbow_output = gensim.models.KeyedVectors.load_word2vec_format('vectors.txt', binary=False)\n",
        "cbow_output.most_similar(positive=['virus'])"
      ]
    }
  ],
  "metadata": {
    "colab": {
      "provenance": []
    },
    "kernelspec": {
      "display_name": "Python 3.9.6 64-bit",
      "language": "python",
      "name": "python3"
    },
    "language_info": {
      "name": "python",
      "version": "3.9.6"
    },
    "vscode": {
      "interpreter": {
        "hash": "4cb152312354fdf8e65d4c58beb131d8b6cf53bf6c2300780a8c702780ef5ae4"
      }
    }
  },
  "nbformat": 4,
  "nbformat_minor": 0
}
