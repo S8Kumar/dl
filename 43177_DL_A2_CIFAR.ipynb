{
  "cells": [
    {
      "cell_type": "markdown",
      "metadata": {
        "id": "Cnjv_vHzd-Es"
      },
      "source": [
        "## **CIFAR-10**"
      ]
    },
    {
      "cell_type": "code",
      "execution_count": null,
      "metadata": {
        "id": "nNttgA22c-Sd"
      },
      "outputs": [],
      "source": [
        "from sklearn.preprocessing import LabelBinarizer\n",
        "from sklearn.metrics import classification_report\n",
        "\n",
        "from tensorflow.keras.models import Sequential\n",
        "from tensorflow.keras.layers import Dense\n",
        "from tensorflow.keras.optimizers import SGD\n",
        "from tensorflow.keras import backend as K\n",
        "\n",
        "import matplotlib.pyplot as plt\n",
        "import numpy as np"
      ]
    },
    {
      "cell_type": "code",
      "execution_count": null,
      "metadata": {
        "id": "aMpkSLmrdRWt"
      },
      "outputs": [],
      "source": [
        "from tensorflow.keras.datasets import cifar10"
      ]
    },
    {
      "cell_type": "code",
      "execution_count": null,
      "metadata": {
        "colab": {
          "base_uri": "https://localhost:8080/"
        },
        "id": "rYQMym_jdX_0",
        "outputId": "f22b55c4-0c78-4555-84f9-0832375ca2b9"
      },
      "outputs": [
        {
          "name": "stdout",
          "output_type": "stream",
          "text": [
            "Downloading data from https://www.cs.toronto.edu/~kriz/cifar-10-python.tar.gz\n",
            "170498071/170498071 [==============================] - 2s 0us/step\n"
          ]
        }
      ],
      "source": [
        "# load the training and testing data, scale it into the range [0, 1],\n",
        "# then reshape the design matrix\n",
        "((trainX, trainY), (testX, testY)) = cifar10.load_data()\n",
        "trainX = trainX.astype(\"float\") / 255.0\n",
        "testX = testX.astype(\"float\") / 255.0\n",
        "trainX = trainX.reshape((trainX.shape[0], 3072))\n",
        "testX = testX.reshape((testX.shape[0], 3072))"
      ]
    },
    {
      "cell_type": "code",
      "execution_count": null,
      "metadata": {
        "id": "NnH05GpHdYl0"
      },
      "outputs": [],
      "source": [
        "# convert the labels from integers to vectors\n",
        "lb = LabelBinarizer()\n",
        "trainY = lb.fit_transform(trainY)\n",
        "testY = lb.transform(testY)"
      ]
    },
    {
      "cell_type": "code",
      "execution_count": null,
      "metadata": {
        "id": "rrg9Dz7Fda35"
      },
      "outputs": [],
      "source": [
        "# initialize the label names for the CIFAR-10 dataset\n",
        "labelNames = [\"airplane\", \"automobile\", \"bird\", \"cat\", \"deer\",\n",
        "\t\"dog\", \"frog\", \"horse\", \"ship\", \"truck\"]"
      ]
    },
    {
      "cell_type": "code",
      "execution_count": null,
      "metadata": {
        "id": "GI4ZvGcSdeca"
      },
      "outputs": [],
      "source": [
        "# define the architecture using Keras\n",
        "model = Sequential()\n",
        "model.add(Dense(1024, input_shape=(3072,), activation=\"sigmoid\"))\n",
        "model.add(Dense(512, activation=\"sigmoid\"))\n",
        "model.add(Dense(10, activation=\"softmax\"))"
      ]
    },
    {
      "cell_type": "code",
      "execution_count": null,
      "metadata": {
        "colab": {
          "base_uri": "https://localhost:8080/"
        },
        "id": "42svN0sIde_s",
        "outputId": "60135ea7-3dc0-4098-a599-4a3d8018fe47"
      },
      "outputs": [
        {
          "name": "stdout",
          "output_type": "stream",
          "text": [
            "Epoch 1/20\n",
            "782/782 [==============================] - 34s 42ms/step - loss: 2.2587 - accuracy: 0.1658 - val_loss: 2.2230 - val_accuracy: 0.1969\n",
            "Epoch 2/20\n",
            "782/782 [==============================] - 30s 38ms/step - loss: 2.1581 - accuracy: 0.2357 - val_loss: 2.1150 - val_accuracy: 0.2355\n",
            "Epoch 3/20\n",
            "782/782 [==============================] - 31s 40ms/step - loss: 2.0709 - accuracy: 0.2706 - val_loss: 2.0377 - val_accuracy: 0.2687\n",
            "Epoch 4/20\n",
            "782/782 [==============================] - 29s 37ms/step - loss: 2.0094 - accuracy: 0.2899 - val_loss: 1.9937 - val_accuracy: 0.2875\n",
            "Epoch 5/20\n",
            "782/782 [==============================] - 29s 37ms/step - loss: 1.9672 - accuracy: 0.3041 - val_loss: 1.9540 - val_accuracy: 0.2832\n",
            "Epoch 6/20\n",
            "782/782 [==============================] - 29s 37ms/step - loss: 1.9369 - accuracy: 0.3140 - val_loss: 1.9253 - val_accuracy: 0.3221\n",
            "Epoch 7/20\n",
            "782/782 [==============================] - 29s 37ms/step - loss: 1.9144 - accuracy: 0.3232 - val_loss: 1.9088 - val_accuracy: 0.3175\n",
            "Epoch 8/20\n",
            "782/782 [==============================] - 29s 38ms/step - loss: 1.8958 - accuracy: 0.3311 - val_loss: 1.8914 - val_accuracy: 0.3422\n",
            "Epoch 9/20\n",
            "782/782 [==============================] - 29s 38ms/step - loss: 1.8807 - accuracy: 0.3388 - val_loss: 1.8802 - val_accuracy: 0.3303\n",
            "Epoch 10/20\n",
            "782/782 [==============================] - 30s 38ms/step - loss: 1.8678 - accuracy: 0.3434 - val_loss: 1.8621 - val_accuracy: 0.3425\n",
            "Epoch 11/20\n",
            "782/782 [==============================] - 31s 39ms/step - loss: 1.8556 - accuracy: 0.3483 - val_loss: 1.8750 - val_accuracy: 0.3275\n",
            "Epoch 12/20\n",
            "782/782 [==============================] - 30s 38ms/step - loss: 1.8449 - accuracy: 0.3523 - val_loss: 1.8372 - val_accuracy: 0.3617\n",
            "Epoch 13/20\n",
            "782/782 [==============================] - 31s 40ms/step - loss: 1.8350 - accuracy: 0.3579 - val_loss: 1.8330 - val_accuracy: 0.3585\n",
            "Epoch 14/20\n",
            "782/782 [==============================] - 30s 38ms/step - loss: 1.8253 - accuracy: 0.3598 - val_loss: 1.8206 - val_accuracy: 0.3623\n",
            "Epoch 15/20\n",
            "782/782 [==============================] - 30s 38ms/step - loss: 1.8173 - accuracy: 0.3632 - val_loss: 1.8196 - val_accuracy: 0.3578\n",
            "Epoch 16/20\n",
            "782/782 [==============================] - 31s 40ms/step - loss: 1.8093 - accuracy: 0.3675 - val_loss: 1.8164 - val_accuracy: 0.3523\n",
            "Epoch 17/20\n",
            "782/782 [==============================] - 30s 38ms/step - loss: 1.8017 - accuracy: 0.3687 - val_loss: 1.7986 - val_accuracy: 0.3662\n",
            "Epoch 18/20\n",
            "782/782 [==============================] - 29s 38ms/step - loss: 1.7951 - accuracy: 0.3725 - val_loss: 1.8124 - val_accuracy: 0.3629\n",
            "Epoch 19/20\n",
            "782/782 [==============================] - 31s 39ms/step - loss: 1.7886 - accuracy: 0.3732 - val_loss: 1.8052 - val_accuracy: 0.3643\n",
            "Epoch 20/20\n",
            "782/782 [==============================] - 29s 37ms/step - loss: 1.7835 - accuracy: 0.3768 - val_loss: 1.7856 - val_accuracy: 0.3719\n"
          ]
        }
      ],
      "source": [
        "# train the model using SGD\n",
        "sgd = SGD(0.01)\n",
        "model.compile(loss=\"categorical_crossentropy\", \n",
        "              optimizer=sgd,\n",
        "\t            metrics=[\"accuracy\"])\n",
        "H = model.fit(trainX, trainY, validation_data=(testX, testY),\n",
        "\tepochs=20, batch_size=64)"
      ]
    },
    {
      "cell_type": "code",
      "execution_count": null,
      "metadata": {
        "colab": {
          "base_uri": "https://localhost:8080/"
        },
        "id": "X8HtTg-udokT",
        "outputId": "0ef9c008-3762-4c39-8639-1ba1c4c748c1"
      },
      "outputs": [
        {
          "name": "stdout",
          "output_type": "stream",
          "text": [
            "157/157 [==============================] - 2s 15ms/step\n",
            "              precision    recall  f1-score   support\n",
            "\n",
            "    airplane       0.34      0.62      0.44      1000\n",
            "  automobile       0.49      0.37      0.42      1000\n",
            "        bird       0.25      0.30      0.27      1000\n",
            "         cat       0.29      0.18      0.22      1000\n",
            "        deer       0.37      0.20      0.26      1000\n",
            "         dog       0.34      0.33      0.33      1000\n",
            "        frog       0.35      0.54      0.42      1000\n",
            "       horse       0.43      0.39      0.41      1000\n",
            "        ship       0.48      0.35      0.40      1000\n",
            "       truck       0.47      0.45      0.46      1000\n",
            "\n",
            "    accuracy                           0.37     10000\n",
            "   macro avg       0.38      0.37      0.36     10000\n",
            "weighted avg       0.38      0.37      0.36     10000\n",
            "\n"
          ]
        }
      ],
      "source": [
        "# evaluate the network\n",
        "predictions = model.predict(testX, batch_size=64)\n",
        "print(classification_report(testY.argmax(axis=1),\n",
        "\tpredictions.argmax(axis=1), target_names=labelNames))"
      ]
    },
    {
      "cell_type": "code",
      "execution_count": null,
      "metadata": {
        "colab": {
          "base_uri": "https://localhost:8080/",
          "height": 316
        },
        "id": "hb0pQ-yEdrgu",
        "outputId": "d5c80b25-24fb-40a7-8375-f78a2390864a"
      },
      "outputs": [
        {
          "data": {
            "text/plain": [
              "<matplotlib.legend.Legend at 0x7f46f80810d0>"
            ]
          },
          "execution_count": 9,
          "metadata": {},
          "output_type": "execute_result"
        },
        {
          "data": {
            "image/png": "[encoded data removed]",
            "text/plain": [
              "<Figure size 432x288 with 1 Axes>"
            ]
          },
          "metadata": {},
          "output_type": "display_data"
        }
      ],
      "source": [
        "# plot the training loss and accuracy\n",
        "plt.style.use(\"ggplot\")\n",
        "plt.figure()\n",
        "plt.plot(np.arange(0, 20), H.history[\"loss\"], label=\"train_loss\")\n",
        "plt.plot(np.arange(0, 20), H.history[\"val_loss\"], label=\"val_loss\")\n",
        "plt.plot(np.arange(0, 20), H.history[\"accuracy\"], label=\"train_acc\")\n",
        "plt.plot(np.arange(0, 20), H.history[\"val_accuracy\"], label=\"val_acc\")\n",
        "plt.title(\"Training Loss and Accuracy\")\n",
        "plt.xlabel(\"Epoch #\")\n",
        "plt.ylabel(\"Loss/Accuracy\")\n",
        "plt.legend()"
      ]
    }
  ],
  "metadata": {
    "colab": {
      "provenance": []
    },
    "kernelspec": {
      "display_name": "Python 3.9.6 64-bit",
      "language": "python",
      "name": "python3"
    },
    "language_info": {
      "name": "python",
      "version": "3.9.6"
    },
    "vscode": {
      "interpreter": {
        "hash": "4cb152312354fdf8e65d4c58beb131d8b6cf53bf6c2300780a8c702780ef5ae4"
      }
    }
  },
  "nbformat": 4,
  "nbformat_minor": 0
}
