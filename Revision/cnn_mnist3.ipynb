{
 "cells": [
  {
   "cell_type": "code",
   "execution_count": 1,
   "metadata": {},
   "outputs": [],
   "source": [
    "import pandas as pd\n",
    "import numpy as np\n",
    "import matplotlib.pyplot as plt\n",
    "from keras.layers import Dense, Flatten, Dropout, Conv1D, MaxPooling1D, Conv2D, MaxPooling2D, Dropout\n",
    "from keras.models import Sequential\n",
    "from keras import losses\n",
    "from keras.optimizers import SGD, Adam\n",
    "from sklearn.preprocessing import MinMaxScaler, LabelBinarizer\n",
    "from sklearn.metrics import classification_report, confusion_matrix\n",
    "from sklearn.model_selection import train_test_split"
   ]
  },
  {
   "cell_type": "code",
   "execution_count": 2,
   "metadata": {},
   "outputs": [],
   "source": [
    "from keras.datasets import mnist\n",
    "((xtrain,ytrain),(xtest, ytest)) = mnist.load_data()"
   ]
  },
  {
   "cell_type": "code",
   "execution_count": 3,
   "metadata": {},
   "outputs": [
    {
     "data": {
      "text/plain": [
       "'\\ntest = pd.read_csv(\\'D:\\\\Documents\\\\Codes\\\\VisualStudioProjects\\\\DATASETS\\\\mnist\\\\mnist_test.csv\\')\\ntrain = pd.read_csv(\"D:\\\\Documents\\\\Codes\\\\VisualStudioProjects\\\\DATASETS\\\\mnist\\\\mnist_train.csv\")\\n\\nmnist = pd.concat([train,test])\\nx = mnist.drop([\\'label\\'],axis=1).values\\ny = mnist[\\'label\\'].values\\nxtrain, xtest, ytrain, ytest = train_test_split(x,y , test_size=0.2)\\n\\nxtrain = xtrain.reshape(xtrain.shape[0], 28, 28, 1)\\nxtest = xtest.reshape(xtest.shape[0], 28, 28, 1)\\n'"
      ]
     },
     "execution_count": 3,
     "metadata": {},
     "output_type": "execute_result"
    }
   ],
   "source": [
    "'''\n",
    "test = pd.read_csv('D:\\Documents\\Codes\\VisualStudioProjects\\DATASETS\\mnist\\mnist_test.csv')\n",
    "train = pd.read_csv(\"D:\\Documents\\Codes\\VisualStudioProjects\\DATASETS\\mnist\\mnist_train.csv\")\n",
    "\n",
    "mnist = pd.concat([train,test])\n",
    "x = mnist.drop(['label'],axis=1).values\n",
    "y = mnist['label'].values\n",
    "xtrain, xtest, ytrain, ytest = train_test_split(x,y , test_size=0.2)\n",
    "\n",
    "xtrain = xtrain.reshape(xtrain.shape[0], 28, 28, 1)\n",
    "xtest = xtest.reshape(xtest.shape[0], 28, 28, 1)\n",
    "'''"
   ]
  },
  {
   "cell_type": "code",
   "execution_count": 4,
   "metadata": {},
   "outputs": [],
   "source": [
    "xtrain = xtrain.astype('float32')/255.0\n",
    "xtest = xtest.astype('float32')/255.0"
   ]
  },
  {
   "cell_type": "code",
   "execution_count": 5,
   "metadata": {},
   "outputs": [],
   "source": [
    "model = Sequential()\n",
    "model.add(Conv2D(32, (3,3), input_shape=(28,28,1), activation='relu'))\n",
    "model.add(MaxPooling2D((2,2)))\n",
    "model.add(Conv2D(64, (3,3), activation='relu'))\n",
    "model.add(MaxPooling2D((2,2)))\n",
    "model.add(Conv2D(64, (3,3), activation='relu'))\n",
    "model.add(Flatten())\n",
    "model.add(Dense(64, activation='relu'))\n",
    "model.add(Dense(10))"
   ]
  },
  {
   "cell_type": "code",
   "execution_count": 6,
   "metadata": {},
   "outputs": [],
   "source": [
    "model.compile(loss=losses.SparseCategoricalCrossentropy(from_logits=True), optimizer=Adam(), metrics=['accuracy'])"
   ]
  },
  {
   "cell_type": "code",
   "execution_count": 7,
   "metadata": {},
   "outputs": [
    {
     "name": "stdout",
     "output_type": "stream",
     "text": [
      "Epoch 1/5\n",
      "1875/1875 [==============================] - 26s 14ms/step - loss: 0.1451 - accuracy: 0.9557 - val_loss: 0.0564 - val_accuracy: 0.9826\n",
      "Epoch 2/5\n",
      "1875/1875 [==============================] - 21s 11ms/step - loss: 0.0457 - accuracy: 0.9857 - val_loss: 0.0478 - val_accuracy: 0.9845\n",
      "Epoch 3/5\n",
      "1875/1875 [==============================] - 23s 12ms/step - loss: 0.0333 - accuracy: 0.9898 - val_loss: 0.0303 - val_accuracy: 0.9905\n",
      "Epoch 4/5\n",
      "1875/1875 [==============================] - 22s 12ms/step - loss: 0.0246 - accuracy: 0.9922 - val_loss: 0.0270 - val_accuracy: 0.9923\n",
      "Epoch 5/5\n",
      "1875/1875 [==============================] - 22s 12ms/step - loss: 0.0195 - accuracy: 0.9939 - val_loss: 0.0270 - val_accuracy: 0.9927\n"
     ]
    }
   ],
   "source": [
    "H= model.fit(xtrain, ytrain, epochs=5, validation_data=[xtest,ytest])"
   ]
  },
  {
   "cell_type": "code",
   "execution_count": 8,
   "metadata": {},
   "outputs": [
    {
     "data": {
      "text/plain": [
       "<matplotlib.legend.Legend at 0x204dd640b80>"
      ]
     },
     "execution_count": 8,
     "metadata": {},
     "output_type": "execute_result"
    },
    {
     "data": {
      "image/png": "[encoded data removed]",
      "text/plain": [
       "<Figure size 432x288 with 1 Axes>"
      ]
     },
     "metadata": {
      "needs_background": "light"
     },
     "output_type": "display_data"
    }
   ],
   "source": [
    "plt.figure()\n",
    "plt.plot(np.arange(0,5), H.history['loss'], label='train loss')\n",
    "plt.plot(np.arange(0,5), H.history['accuracy'], label='train accuracy')\n",
    "plt.plot(np.arange(0,5), H.history['val_loss'], label='val loss')\n",
    "plt.plot(np.arange(0,5), H.history['val_accuracy'], label='val accuracy')\n",
    "plt.legend()"
   ]
  },
  {
   "cell_type": "code",
   "execution_count": 9,
   "metadata": {},
   "outputs": [
    {
     "name": "stdout",
     "output_type": "stream",
     "text": [
      "1/1 [==============================] - 0s 201ms/step\n",
      "1\n"
     ]
    },
    {
     "data": {
      "image/png": "[encoded data removed]",
      "text/plain": [
       "<Figure size 432x288 with 1 Axes>"
      ]
     },
     "metadata": {
      "needs_background": "light"
     },
     "output_type": "display_data"
    }
   ],
   "source": [
    "index = 8\n",
    "plt.imshow(xtest[index], cmap='Greys')\n",
    "labels = ['0','1','2','3','4','5','6','7','8','9']\n",
    "arr = np.array(xtrain[index])\n",
    "img = arr.reshape(1,28,28,1)\n",
    "pred = labels[model.predict(img).argmax()]\n",
    "print(pred)"
   ]
  }
 ],
 "metadata": {
  "kernelspec": {
   "display_name": "Python 3.9.6 64-bit",
   "language": "python",
   "name": "python3"
  },
  "language_info": {
   "codemirror_mode": {
    "name": "ipython",
    "version": 3
   },
   "file_extension": ".py",
   "mimetype": "text/x-python",
   "name": "python",
   "nbconvert_exporter": "python",
   "pygments_lexer": "ipython3",
   "version": "3.9.6"
  },
  "orig_nbformat": 4,
  "vscode": {
   "interpreter": {
    "hash": "4cb152312354fdf8e65d4c58beb131d8b6cf53bf6c2300780a8c702780ef5ae4"
   }
  }
 },
 "nbformat": 4,
 "nbformat_minor": 2
}
