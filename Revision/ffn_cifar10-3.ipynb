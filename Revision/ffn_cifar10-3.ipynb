{
 "cells": [
  {
   "cell_type": "code",
   "execution_count": 1,
   "metadata": {},
   "outputs": [],
   "source": [
    "import pandas as pd\n",
    "import numpy as np\n",
    "import matplotlib.pyplot as plt\n",
    "from sklearn.preprocessing import MinMaxScaler, LabelBinarizer\n",
    "from sklearn.model_selection import train_test_split\n",
    "from sklearn.metrics import classification_report\n",
    "from keras.layers import Dense, Dropout, Conv2D, MaxPooling1D, Flatten\n",
    "from keras.models import Sequential\n",
    "from keras.optimizers import SGD, Adam\n",
    "from keras.losses import CategoricalCrossentropy, SparseCategoricalCrossentropy"
   ]
  },
  {
   "cell_type": "code",
   "execution_count": 2,
   "metadata": {},
   "outputs": [
    {
     "data": {
      "text/plain": [
       "((50000, 32, 32, 3), (50000, 1), (10000, 32, 32, 3), (10000, 1))"
      ]
     },
     "execution_count": 2,
     "metadata": {},
     "output_type": "execute_result"
    }
   ],
   "source": [
    "from keras.datasets import cifar10\n",
    "((xtrain, ytrain), (xtest, ytest)) = cifar10.load_data()\n",
    "xtrain.shape, ytrain.shape, xtest.shape, ytest.shape"
   ]
  },
  {
   "cell_type": "code",
   "execution_count": 3,
   "metadata": {},
   "outputs": [],
   "source": [
    "xtrain = xtrain.reshape(xtrain.shape[0], 32*32*3)\n",
    "xtest = xtest.reshape(xtest.shape[0], 32*32*3)"
   ]
  },
  {
   "cell_type": "code",
   "execution_count": 4,
   "metadata": {},
   "outputs": [
    {
     "data": {
      "text/plain": [
       "((50000, 3072), (50000, 1), (10000, 3072), (10000, 1))"
      ]
     },
     "execution_count": 4,
     "metadata": {},
     "output_type": "execute_result"
    }
   ],
   "source": [
    "xtrain.shape, ytrain.shape, xtest.shape, ytest.shape"
   ]
  },
  {
   "cell_type": "code",
   "execution_count": 5,
   "metadata": {},
   "outputs": [],
   "source": [
    "xtrain = xtrain.astype('float32')/255.0\n",
    "xtest = xtest.astype('float32')/255.0"
   ]
  },
  {
   "cell_type": "code",
   "execution_count": 6,
   "metadata": {},
   "outputs": [],
   "source": [
    "lb = LabelBinarizer()\n",
    "ytrain = lb.fit_transform(ytrain)\n",
    "ytest = lb.transform(ytest)"
   ]
  },
  {
   "cell_type": "code",
   "execution_count": 7,
   "metadata": {},
   "outputs": [],
   "source": [
    "model = Sequential()\n",
    "model.add(Dense(1024, input_shape=(3072, ), activation='sigmoid'))\n",
    "model.add(Dense(512, activation=\"sigmoid\"))\n",
    "model.add(Dense(10, activation='softmax'))"
   ]
  },
  {
   "cell_type": "code",
   "execution_count": 8,
   "metadata": {},
   "outputs": [],
   "source": [
    "model.compile(loss='CategoricalCrossentropy', optimizer=SGD(), metrics=['accuracy'] )"
   ]
  },
  {
   "cell_type": "code",
   "execution_count": 9,
   "metadata": {},
   "outputs": [
    {
     "name": "stdout",
     "output_type": "stream",
     "text": [
      "Epoch 1/10\n",
      "782/782 [==============================] - 13s 16ms/step - loss: 2.2609 - accuracy: 0.1629 - val_loss: 2.2129 - val_accuracy: 0.1890\n",
      "Epoch 2/10\n",
      "782/782 [==============================] - 13s 17ms/step - loss: 2.1623 - accuracy: 0.2347 - val_loss: 2.1119 - val_accuracy: 0.2507\n",
      "Epoch 3/10\n",
      "782/782 [==============================] - 12s 16ms/step - loss: 2.0739 - accuracy: 0.2695 - val_loss: 2.0376 - val_accuracy: 0.2809\n",
      "Epoch 4/10\n",
      "782/782 [==============================] - 11s 14ms/step - loss: 2.0112 - accuracy: 0.2875 - val_loss: 1.9955 - val_accuracy: 0.2944\n",
      "Epoch 5/10\n",
      "782/782 [==============================] - 11s 15ms/step - loss: 1.9680 - accuracy: 0.3021 - val_loss: 1.9563 - val_accuracy: 0.3010\n",
      "Epoch 6/10\n",
      "782/782 [==============================] - 12s 15ms/step - loss: 1.9367 - accuracy: 0.3149 - val_loss: 1.9178 - val_accuracy: 0.3332\n",
      "Epoch 7/10\n",
      "782/782 [==============================] - 12s 15ms/step - loss: 1.9139 - accuracy: 0.3242 - val_loss: 1.9063 - val_accuracy: 0.3197\n",
      "Epoch 8/10\n",
      "782/782 [==============================] - 11s 14ms/step - loss: 1.8954 - accuracy: 0.3316 - val_loss: 1.8895 - val_accuracy: 0.3279\n",
      "Epoch 9/10\n",
      "782/782 [==============================] - 11s 14ms/step - loss: 1.8800 - accuracy: 0.3382 - val_loss: 1.8837 - val_accuracy: 0.3247\n",
      "Epoch 10/10\n",
      "782/782 [==============================] - 11s 14ms/step - loss: 1.8668 - accuracy: 0.3411 - val_loss: 1.8731 - val_accuracy: 0.3259\n"
     ]
    }
   ],
   "source": [
    "H = model.fit(xtrain, ytrain, validation_data=[xtest, ytest], epochs=10, batch_size=64)"
   ]
  },
  {
   "cell_type": "code",
   "execution_count": 10,
   "metadata": {},
   "outputs": [
    {
     "data": {
      "text/plain": [
       "<matplotlib.legend.Legend at 0x21aa0ae6670>"
      ]
     },
     "execution_count": 10,
     "metadata": {},
     "output_type": "execute_result"
    },
    {
     "data": {
      "image/png": "[encoded data removed]",
      "text/plain": [
       "<Figure size 432x288 with 1 Axes>"
      ]
     },
     "metadata": {
      "needs_background": "light"
     },
     "output_type": "display_data"
    }
   ],
   "source": [
    "plt.figure()\n",
    "plt.plot(np.arange(0,10), H.history['loss'], label='loss')\n",
    "plt.plot(np.arange(0,10), H.history['accuracy'], label='accuracy')\n",
    "plt.plot(np.arange(0,10), H.history['val_loss'], label='val_loss')\n",
    "plt.plot(np.arange(0,10), H.history['val_accuracy'], label='val_accuracy')\n",
    "plt.xlabel(\"Epochs\")\n",
    "plt.legend()"
   ]
  },
  {
   "cell_type": "code",
   "execution_count": 11,
   "metadata": {},
   "outputs": [
    {
     "name": "stdout",
     "output_type": "stream",
     "text": [
      "313/313 [==============================] - 2s 4ms/step\n",
      "              precision    recall  f1-score   support\n",
      "\n",
      "           0       0.48      0.35      0.40      1000\n",
      "           1       0.34      0.47      0.39      1000\n",
      "           2       0.29      0.09      0.14      1000\n",
      "           3       0.18      0.55      0.27      1000\n",
      "           4       0.41      0.11      0.17      1000\n",
      "           5       0.48      0.22      0.30      1000\n",
      "           6       0.38      0.22      0.28      1000\n",
      "           7       0.34      0.32      0.33      1000\n",
      "           8       0.40      0.53      0.46      1000\n",
      "           9       0.43      0.42      0.42      1000\n",
      "\n",
      "    accuracy                           0.33     10000\n",
      "   macro avg       0.37      0.33      0.32     10000\n",
      "weighted avg       0.37      0.33      0.32     10000\n",
      "\n"
     ]
    }
   ],
   "source": [
    "pred = model.predict(xtest)\n",
    "print(classification_report(ytest.argmax(axis=1),pred.argmax(axis=1)))"
   ]
  }
 ],
 "metadata": {
  "kernelspec": {
   "display_name": "Python 3.9.6 64-bit",
   "language": "python",
   "name": "python3"
  },
  "language_info": {
   "codemirror_mode": {
    "name": "ipython",
    "version": 3
   },
   "file_extension": ".py",
   "mimetype": "text/x-python",
   "name": "python",
   "nbconvert_exporter": "python",
   "pygments_lexer": "ipython3",
   "version": "3.9.6"
  },
  "orig_nbformat": 4,
  "vscode": {
   "interpreter": {
    "hash": "4cb152312354fdf8e65d4c58beb131d8b6cf53bf6c2300780a8c702780ef5ae4"
   }
  }
 },
 "nbformat": 4,
 "nbformat_minor": 2
}
